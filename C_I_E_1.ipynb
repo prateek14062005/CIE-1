{
  "nbformat": 4,
  "nbformat_minor": 0,
  "metadata": {
    "colab": {
      "provenance": [],
      "authorship_tag": "ABX9TyMdRsSu6wqXPpovEDJyZy75",
      "include_colab_link": true
    },
    "kernelspec": {
      "name": "python3",
      "display_name": "Python 3"
    },
    "language_info": {
      "name": "python"
    }
  },
  "cells": [
    {
      "cell_type": "markdown",
      "metadata": {
        "id": "view-in-github",
        "colab_type": "text"
      },
      "source": [
        "<a href=\"https://colab.research.google.com/github/prateek14062005/CIE-1/blob/main/C_I_E_1.ipynb\" target=\"_parent\"><img src=\"https://colab.research.google.com/assets/colab-badge.svg\" alt=\"Open In Colab\"/></a>"
      ]
    },
    {
      "cell_type": "code",
      "execution_count": 1,
      "metadata": {
        "colab": {
          "base_uri": "https://localhost:8080/"
        },
        "id": "08VdHrj6I6Td",
        "outputId": "8333ceca-efc5-4238-cfc5-43130d405024"
      },
      "outputs": [
        {
          "output_type": "stream",
          "name": "stdout",
          "text": [
            "             Unnamed: 0   mpg  cyl   disp   hp  drat     wt   qsec  vs  am  \\\n",
            "0             Mazda RX4  21.0    6  160.0  110  3.90  2.620  16.46   0   1   \n",
            "1         Mazda RX4 Wag  21.0    6  160.0  110  3.90  2.875  17.02   0   1   \n",
            "2            Datsun 710  22.8    4  108.0   93  3.85  2.320  18.61   1   1   \n",
            "3        Hornet 4 Drive  21.4    6  258.0  110  3.08  3.215  19.44   1   0   \n",
            "4     Hornet Sportabout  18.7    8  360.0  175  3.15  3.440  17.02   0   0   \n",
            "5               Valiant  18.1    6  225.0  105  2.76  3.460  20.22   1   0   \n",
            "6            Duster 360  14.3    8  360.0  245  3.21  3.570  15.84   0   0   \n",
            "7             Merc 240D  24.4    4  146.7   62  3.69  3.190  20.00   1   0   \n",
            "8              Merc 230  22.8    4  140.8   95  3.92  3.150  22.90   1   0   \n",
            "9              Merc 280  19.2    6  167.6  123  3.92  3.440  18.30   1   0   \n",
            "10            Merc 280C  17.8    6  167.6  123  3.92  3.440  18.90   1   0   \n",
            "11           Merc 450SE  16.4    8  275.8  180  3.07  4.070  17.40   0   0   \n",
            "12           Merc 450SL  17.3    8  275.8  180  3.07  3.730  17.60   0   0   \n",
            "13          Merc 450SLC  15.2    8  275.8  180  3.07  3.780  18.00   0   0   \n",
            "14   Cadillac Fleetwood  10.4    8  472.0  205  2.93  5.250  17.98   0   0   \n",
            "15  Lincoln Continental  10.4    8  460.0  215  3.00  5.424  17.82   0   0   \n",
            "16    Chrysler Imperial  14.7    8  440.0  230  3.23  5.345  17.42   0   0   \n",
            "17             Fiat 128  32.4    4   78.7   66  4.08  2.200  19.47   1   1   \n",
            "18          Honda Civic  30.4    4   75.7   52  4.93  1.615  18.52   1   1   \n",
            "19       Toyota Corolla  33.9    4   71.1   65  4.22  1.835  19.90   1   1   \n",
            "20        Toyota Corona  21.5    4  120.1   97  3.70  2.465  20.01   1   0   \n",
            "21     Dodge Challenger  15.5    8  318.0  150  2.76  3.520  16.87   0   0   \n",
            "22          AMC Javelin  15.2    8  304.0  150  3.15  3.435  17.30   0   0   \n",
            "23           Camaro Z28  13.3    8  350.0  245  3.73  3.840  15.41   0   0   \n",
            "24     Pontiac Firebird  19.2    8  400.0  175  3.08  3.845  17.05   0   0   \n",
            "25            Fiat X1-9  27.3    4   79.0   66  4.08  1.935  18.90   1   1   \n",
            "26        Porsche 914-2  26.0    4  120.3   91  4.43  2.140  16.70   0   1   \n",
            "27         Lotus Europa  30.4    4   95.1  113  3.77  1.513  16.90   1   1   \n",
            "28       Ford Pantera L  15.8    8  351.0  264  4.22  3.170  14.50   0   1   \n",
            "29         Ferrari Dino  19.7    6  145.0  175  3.62  2.770  15.50   0   1   \n",
            "30        Maserati Bora  15.0    8  301.0  335  3.54  3.570  14.60   0   1   \n",
            "31           Volvo 142E  21.4    4  121.0  109  4.11  2.780  18.60   1   1   \n",
            "\n",
            "    gear  carb  \n",
            "0      4     4  \n",
            "1      4     4  \n",
            "2      4     1  \n",
            "3      3     1  \n",
            "4      3     2  \n",
            "5      3     1  \n",
            "6      3     4  \n",
            "7      4     2  \n",
            "8      4     2  \n",
            "9      4     4  \n",
            "10     4     4  \n",
            "11     3     3  \n",
            "12     3     3  \n",
            "13     3     3  \n",
            "14     3     4  \n",
            "15     3     4  \n",
            "16     3     4  \n",
            "17     4     1  \n",
            "18     4     2  \n",
            "19     4     1  \n",
            "20     3     1  \n",
            "21     3     2  \n",
            "22     3     2  \n",
            "23     3     4  \n",
            "24     3     2  \n",
            "25     4     1  \n",
            "26     5     2  \n",
            "27     5     2  \n",
            "28     5     4  \n",
            "29     5     6  \n",
            "30     5     8  \n",
            "31     4     2  \n"
          ]
        }
      ],
      "source": [
        "import pandas as pd\n",
        "df=pd.read_csv(\"/content/mtcars.csv\")\n",
        "print(df)"
      ]
    },
    {
      "cell_type": "code",
      "source": [
        "plt.scatter(x='wt',y='mpg',data=df)\n",
        "plt.title('weight vs MPG')\n",
        "plt.xlabel('weight')\n",
        "plt.ylabel('mpg')\n",
        "plt.show()"
      ],
      "metadata": {
        "colab": {
          "base_uri": "https://localhost:8080/",
          "height": 472
        },
        "id": "4zKMYHBFKuhC",
        "outputId": "3668d49e-9868-43c2-a9e7-c4b6228f6c6b"
      },
      "execution_count": 11,
      "outputs": [
        {
          "output_type": "display_data",
          "data": {
            "text/plain": [
              "<Figure size 640x480 with 1 Axes>"
            ],
            "image/png": "[encoded data removed]"
          },
          "metadata": {}
        }
      ]
    }
  ]
}